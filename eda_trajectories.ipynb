{
 "cells": [
  {
   "cell_type": "markdown",
   "metadata": {},
   "source": [
    "# Análise Exploratória sobre os Dados de Trajetória"
   ]
  },
  {
   "cell_type": "code",
   "execution_count": 11,
   "metadata": {},
   "outputs": [],
   "source": [
    "import pandas as pd\n",
    "import os\n",
    "import matplotlib.pyplot as plt\n",
    "import warnings\n",
    "from shapely.geometry import LineString, MultiLineString\n",
    "from shapely.wkt import loads\n",
    "import geopandas as gpd\n",
    "from Utils.db import DataBaseConnector\n",
    "\n",
    "warnings.filterwarnings(\"ignore\")"
   ]
  },
  {
   "cell_type": "code",
   "execution_count": 19,
   "metadata": {},
   "outputs": [
    {
     "data": {
      "text/html": [
       "<div>\n",
       "<style scoped>\n",
       "    .dataframe tbody tr th:only-of-type {\n",
       "        vertical-align: middle;\n",
       "    }\n",
       "\n",
       "    .dataframe tbody tr th {\n",
       "        vertical-align: top;\n",
       "    }\n",
       "\n",
       "    .dataframe thead th {\n",
       "        text-align: right;\n",
       "    }\n",
       "</style>\n",
       "<table border=\"1\" class=\"dataframe\">\n",
       "  <thead>\n",
       "    <tr style=\"text-align: right;\">\n",
       "      <th></th>\n",
       "      <th>flight_id</th>\n",
       "      <th>aircraft_id</th>\n",
       "      <th>reg</th>\n",
       "      <th>equip</th>\n",
       "      <th>fr_callsign</th>\n",
       "      <th>schd_from</th>\n",
       "      <th>schd_to</th>\n",
       "      <th>real_to</th>\n",
       "      <th>date</th>\n",
       "      <th>tf_callsign</th>\n",
       "      <th>adep</th>\n",
       "      <th>ades</th>\n",
       "      <th>runway</th>\n",
       "      <th>acfttype</th>\n",
       "      <th>eventtype</th>\n",
       "      <th>arr</th>\n",
       "      <th>flight_path</th>\n",
       "      <th>flight_path_c100</th>\n",
       "    </tr>\n",
       "  </thead>\n",
       "  <tbody>\n",
       "    <tr>\n",
       "      <th>0</th>\n",
       "      <td>863160346</td>\n",
       "      <td>14977959</td>\n",
       "      <td>PTMUF</td>\n",
       "      <td>B77W</td>\n",
       "      <td>TAM8085</td>\n",
       "      <td>LHR</td>\n",
       "      <td>GRU</td>\n",
       "      <td>GRU</td>\n",
       "      <td>2024-01-01</td>\n",
       "      <td>TAM8085</td>\n",
       "      <td>EGLL</td>\n",
       "      <td>SBGR</td>\n",
       "      <td>10R</td>\n",
       "      <td>B77W</td>\n",
       "      <td>ARR</td>\n",
       "      <td>2024-01-01 08:10:41.633</td>\n",
       "      <td>LINESTRING (-32.31014 -0.33952, -32.40214 -0.5...</td>\n",
       "      <td>MULTILINESTRING ((-45.77894425397203 -21.89260...</td>\n",
       "    </tr>\n",
       "    <tr>\n",
       "      <th>1</th>\n",
       "      <td>863105832</td>\n",
       "      <td>15205486</td>\n",
       "      <td>CCBGS</td>\n",
       "      <td>B789</td>\n",
       "      <td>TAM8149</td>\n",
       "      <td>LIS</td>\n",
       "      <td>GRU</td>\n",
       "      <td>GRU</td>\n",
       "      <td>2024-01-01</td>\n",
       "      <td>TAM8149</td>\n",
       "      <td>LPPT</td>\n",
       "      <td>SBGR</td>\n",
       "      <td>10R</td>\n",
       "      <td>B789</td>\n",
       "      <td>ARR</td>\n",
       "      <td>2024-01-01 00:17:26.297</td>\n",
       "      <td>LINESTRING (-46.25928 -22.61517, -46.26767 -22...</td>\n",
       "      <td>LINESTRING (-46.25928 -22.61517, -46.26767 -22...</td>\n",
       "    </tr>\n",
       "    <tr>\n",
       "      <th>2</th>\n",
       "      <td>863127190</td>\n",
       "      <td>4805282</td>\n",
       "      <td>CSTUB</td>\n",
       "      <td>A339</td>\n",
       "      <td>TAP083</td>\n",
       "      <td>LIS</td>\n",
       "      <td>GRU</td>\n",
       "      <td>GRU</td>\n",
       "      <td>2024-01-01</td>\n",
       "      <td>TAP083</td>\n",
       "      <td>LPPT</td>\n",
       "      <td>SBGR</td>\n",
       "      <td>10R</td>\n",
       "      <td>A339</td>\n",
       "      <td>ARR</td>\n",
       "      <td>2024-01-01 03:04:52.557</td>\n",
       "      <td>LINESTRING (-35.0529 -5.54306, -35.08356 -5.60...</td>\n",
       "      <td>LINESTRING (-45.819541224869084 -21.8808528815...</td>\n",
       "    </tr>\n",
       "    <tr>\n",
       "      <th>3</th>\n",
       "      <td>863155888</td>\n",
       "      <td>14975371</td>\n",
       "      <td>PTMUC</td>\n",
       "      <td>B77W</td>\n",
       "      <td>TAM8071</td>\n",
       "      <td>FRA</td>\n",
       "      <td>GRU</td>\n",
       "      <td>GRU</td>\n",
       "      <td>2024-01-01</td>\n",
       "      <td>TAM8071</td>\n",
       "      <td>EDDF</td>\n",
       "      <td>SBGR</td>\n",
       "      <td>10R</td>\n",
       "      <td>B77W</td>\n",
       "      <td>ARR</td>\n",
       "      <td>2024-01-01 08:05:32.557</td>\n",
       "      <td>LINESTRING (-32.34934 -0.44928, -32.36153 -0.4...</td>\n",
       "      <td>LINESTRING (-45.83354808227138 -21.87679899319...</td>\n",
       "    </tr>\n",
       "    <tr>\n",
       "      <th>4</th>\n",
       "      <td>863186619</td>\n",
       "      <td>794989</td>\n",
       "      <td>HP9922CMP</td>\n",
       "      <td>B39M</td>\n",
       "      <td>CMP743</td>\n",
       "      <td>PTY</td>\n",
       "      <td>GRU</td>\n",
       "      <td>GRU</td>\n",
       "      <td>2024-01-01</td>\n",
       "      <td>CMP743</td>\n",
       "      <td>MPTO</td>\n",
       "      <td>SBGR</td>\n",
       "      <td>10R</td>\n",
       "      <td>B39M</td>\n",
       "      <td>ARR</td>\n",
       "      <td>2024-01-01 06:19:31.797</td>\n",
       "      <td>LINESTRING (-74.96414 5.4521, -74.91679 5.4096...</td>\n",
       "      <td>LINESTRING (-48.073081001310776 -22.6746514106...</td>\n",
       "    </tr>\n",
       "  </tbody>\n",
       "</table>\n",
       "</div>"
      ],
      "text/plain": [
       "   flight_id  aircraft_id        reg equip fr_callsign schd_from schd_to  \\\n",
       "0  863160346     14977959      PTMUF  B77W     TAM8085       LHR     GRU   \n",
       "1  863105832     15205486      CCBGS  B789     TAM8149       LIS     GRU   \n",
       "2  863127190      4805282      CSTUB  A339      TAP083       LIS     GRU   \n",
       "3  863155888     14975371      PTMUC  B77W     TAM8071       FRA     GRU   \n",
       "4  863186619       794989  HP9922CMP  B39M      CMP743       PTY     GRU   \n",
       "\n",
       "  real_to        date tf_callsign  adep  ades runway acfttype eventtype  \\\n",
       "0     GRU  2024-01-01     TAM8085  EGLL  SBGR    10R     B77W       ARR   \n",
       "1     GRU  2024-01-01     TAM8149  LPPT  SBGR    10R     B789       ARR   \n",
       "2     GRU  2024-01-01      TAP083  LPPT  SBGR    10R     A339       ARR   \n",
       "3     GRU  2024-01-01     TAM8071  EDDF  SBGR    10R     B77W       ARR   \n",
       "4     GRU  2024-01-01      CMP743  MPTO  SBGR    10R     B39M       ARR   \n",
       "\n",
       "                       arr                                        flight_path  \\\n",
       "0  2024-01-01 08:10:41.633  LINESTRING (-32.31014 -0.33952, -32.40214 -0.5...   \n",
       "1  2024-01-01 00:17:26.297  LINESTRING (-46.25928 -22.61517, -46.26767 -22...   \n",
       "2  2024-01-01 03:04:52.557  LINESTRING (-35.0529 -5.54306, -35.08356 -5.60...   \n",
       "3  2024-01-01 08:05:32.557  LINESTRING (-32.34934 -0.44928, -32.36153 -0.4...   \n",
       "4  2024-01-01 06:19:31.797  LINESTRING (-74.96414 5.4521, -74.91679 5.4096...   \n",
       "\n",
       "                                    flight_path_c100  \n",
       "0  MULTILINESTRING ((-45.77894425397203 -21.89260...  \n",
       "1  LINESTRING (-46.25928 -22.61517, -46.26767 -22...  \n",
       "2  LINESTRING (-45.819541224869084 -21.8808528815...  \n",
       "3  LINESTRING (-45.83354808227138 -21.87679899319...  \n",
       "4  LINESTRING (-48.073081001310776 -22.6746514106...  "
      ]
     },
     "execution_count": 19,
     "metadata": {},
     "output_type": "execute_result"
    }
   ],
   "source": [
    "df = pd.read_csv(\"trajectories_to_gru_2024_01_01_within_C100.csv\", sep=';')\n",
    "df.head()"
   ]
  },
  {
   "cell_type": "code",
   "execution_count": 16,
   "metadata": {},
   "outputs": [],
   "source": [
    "# Convertendo as strings para objetos LineString\n",
    "df['flight_path'] = df['flight_path'].astype(str)\n",
    "df['flight_path_c100'] = df['flight_path_c100'].astype(str)"
   ]
  },
  {
   "cell_type": "code",
   "execution_count": 20,
   "metadata": {},
   "outputs": [
    {
     "ename": "TypeError",
     "evalue": "Expected bytes or string, got float",
     "output_type": "error",
     "traceback": [
      "\u001b[0;31m---------------------------------------------------------------------------\u001b[0m",
      "\u001b[0;31mTypeError\u001b[0m                                 Traceback (most recent call last)",
      "Cell \u001b[0;32mIn[20], line 2\u001b[0m\n\u001b[1;32m      1\u001b[0m \u001b[38;5;66;03m# Convertendo as strings para objetos LineString\u001b[39;00m\n\u001b[0;32m----> 2\u001b[0m df[\u001b[38;5;124m'\u001b[39m\u001b[38;5;124mflight_path\u001b[39m\u001b[38;5;124m'\u001b[39m] \u001b[38;5;241m=\u001b[39m \u001b[43mdf\u001b[49m\u001b[43m[\u001b[49m\u001b[38;5;124;43m'\u001b[39;49m\u001b[38;5;124;43mflight_path\u001b[39;49m\u001b[38;5;124;43m'\u001b[39;49m\u001b[43m]\u001b[49m\u001b[38;5;241;43m.\u001b[39;49m\u001b[43mapply\u001b[49m\u001b[43m(\u001b[49m\u001b[43mloads\u001b[49m\u001b[43m)\u001b[49m\n\u001b[1;32m      3\u001b[0m df[\u001b[38;5;124m'\u001b[39m\u001b[38;5;124mflight_path_c100\u001b[39m\u001b[38;5;124m'\u001b[39m] \u001b[38;5;241m=\u001b[39m df[\u001b[38;5;124m'\u001b[39m\u001b[38;5;124mflight_path_c100\u001b[39m\u001b[38;5;124m'\u001b[39m]\u001b[38;5;241m.\u001b[39mapply(loads)\n",
      "File \u001b[0;32m~/Documentos/Desenvolvimento/doutorado/tma_characterization/venv/lib/python3.8/site-packages/pandas/core/series.py:4630\u001b[0m, in \u001b[0;36mSeries.apply\u001b[0;34m(self, func, convert_dtype, args, **kwargs)\u001b[0m\n\u001b[1;32m   4520\u001b[0m \u001b[38;5;28;01mdef\u001b[39;00m \u001b[38;5;21mapply\u001b[39m(\n\u001b[1;32m   4521\u001b[0m     \u001b[38;5;28mself\u001b[39m,\n\u001b[1;32m   4522\u001b[0m     func: AggFuncType,\n\u001b[0;32m   (...)\u001b[0m\n\u001b[1;32m   4525\u001b[0m     \u001b[38;5;241m*\u001b[39m\u001b[38;5;241m*\u001b[39mkwargs,\n\u001b[1;32m   4526\u001b[0m ) \u001b[38;5;241m-\u001b[39m\u001b[38;5;241m>\u001b[39m DataFrame \u001b[38;5;241m|\u001b[39m Series:\n\u001b[1;32m   4527\u001b[0m \u001b[38;5;250m    \u001b[39m\u001b[38;5;124;03m\"\"\"\u001b[39;00m\n\u001b[1;32m   4528\u001b[0m \u001b[38;5;124;03m    Invoke function on values of Series.\u001b[39;00m\n\u001b[1;32m   4529\u001b[0m \n\u001b[0;32m   (...)\u001b[0m\n\u001b[1;32m   4628\u001b[0m \u001b[38;5;124;03m    dtype: float64\u001b[39;00m\n\u001b[1;32m   4629\u001b[0m \u001b[38;5;124;03m    \"\"\"\u001b[39;00m\n\u001b[0;32m-> 4630\u001b[0m     \u001b[38;5;28;01mreturn\u001b[39;00m \u001b[43mSeriesApply\u001b[49m\u001b[43m(\u001b[49m\u001b[38;5;28;43mself\u001b[39;49m\u001b[43m,\u001b[49m\u001b[43m \u001b[49m\u001b[43mfunc\u001b[49m\u001b[43m,\u001b[49m\u001b[43m \u001b[49m\u001b[43mconvert_dtype\u001b[49m\u001b[43m,\u001b[49m\u001b[43m \u001b[49m\u001b[43margs\u001b[49m\u001b[43m,\u001b[49m\u001b[43m \u001b[49m\u001b[43mkwargs\u001b[49m\u001b[43m)\u001b[49m\u001b[38;5;241;43m.\u001b[39;49m\u001b[43mapply\u001b[49m\u001b[43m(\u001b[49m\u001b[43m)\u001b[49m\n",
      "File \u001b[0;32m~/Documentos/Desenvolvimento/doutorado/tma_characterization/venv/lib/python3.8/site-packages/pandas/core/apply.py:1025\u001b[0m, in \u001b[0;36mSeriesApply.apply\u001b[0;34m(self)\u001b[0m\n\u001b[1;32m   1022\u001b[0m     \u001b[38;5;28;01mreturn\u001b[39;00m \u001b[38;5;28mself\u001b[39m\u001b[38;5;241m.\u001b[39mapply_str()\n\u001b[1;32m   1024\u001b[0m \u001b[38;5;66;03m# self.f is Callable\u001b[39;00m\n\u001b[0;32m-> 1025\u001b[0m \u001b[38;5;28;01mreturn\u001b[39;00m \u001b[38;5;28;43mself\u001b[39;49m\u001b[38;5;241;43m.\u001b[39;49m\u001b[43mapply_standard\u001b[49m\u001b[43m(\u001b[49m\u001b[43m)\u001b[49m\n",
      "File \u001b[0;32m~/Documentos/Desenvolvimento/doutorado/tma_characterization/venv/lib/python3.8/site-packages/pandas/core/apply.py:1076\u001b[0m, in \u001b[0;36mSeriesApply.apply_standard\u001b[0;34m(self)\u001b[0m\n\u001b[1;32m   1074\u001b[0m     \u001b[38;5;28;01melse\u001b[39;00m:\n\u001b[1;32m   1075\u001b[0m         values \u001b[38;5;241m=\u001b[39m obj\u001b[38;5;241m.\u001b[39mastype(\u001b[38;5;28mobject\u001b[39m)\u001b[38;5;241m.\u001b[39m_values\n\u001b[0;32m-> 1076\u001b[0m         mapped \u001b[38;5;241m=\u001b[39m \u001b[43mlib\u001b[49m\u001b[38;5;241;43m.\u001b[39;49m\u001b[43mmap_infer\u001b[49m\u001b[43m(\u001b[49m\n\u001b[1;32m   1077\u001b[0m \u001b[43m            \u001b[49m\u001b[43mvalues\u001b[49m\u001b[43m,\u001b[49m\n\u001b[1;32m   1078\u001b[0m \u001b[43m            \u001b[49m\u001b[43mf\u001b[49m\u001b[43m,\u001b[49m\n\u001b[1;32m   1079\u001b[0m \u001b[43m            \u001b[49m\u001b[43mconvert\u001b[49m\u001b[38;5;241;43m=\u001b[39;49m\u001b[38;5;28;43mself\u001b[39;49m\u001b[38;5;241;43m.\u001b[39;49m\u001b[43mconvert_dtype\u001b[49m\u001b[43m,\u001b[49m\n\u001b[1;32m   1080\u001b[0m \u001b[43m        \u001b[49m\u001b[43m)\u001b[49m\n\u001b[1;32m   1082\u001b[0m \u001b[38;5;28;01mif\u001b[39;00m \u001b[38;5;28mlen\u001b[39m(mapped) \u001b[38;5;129;01mand\u001b[39;00m \u001b[38;5;28misinstance\u001b[39m(mapped[\u001b[38;5;241m0\u001b[39m], ABCSeries):\n\u001b[1;32m   1083\u001b[0m     \u001b[38;5;66;03m# GH#43986 Need to do list(mapped) in order to get treated as nested\u001b[39;00m\n\u001b[1;32m   1084\u001b[0m     \u001b[38;5;66;03m#  See also GH#25959 regarding EA support\u001b[39;00m\n\u001b[1;32m   1085\u001b[0m     \u001b[38;5;28;01mreturn\u001b[39;00m obj\u001b[38;5;241m.\u001b[39m_constructor_expanddim(\u001b[38;5;28mlist\u001b[39m(mapped), index\u001b[38;5;241m=\u001b[39mobj\u001b[38;5;241m.\u001b[39mindex)\n",
      "File \u001b[0;32m~/Documentos/Desenvolvimento/doutorado/tma_characterization/venv/lib/python3.8/site-packages/pandas/_libs/lib.pyx:2834\u001b[0m, in \u001b[0;36mpandas._libs.lib.map_infer\u001b[0;34m()\u001b[0m\n",
      "File \u001b[0;32m~/Documentos/Desenvolvimento/doutorado/tma_characterization/venv/lib/python3.8/site-packages/shapely/wkt.py:22\u001b[0m, in \u001b[0;36mloads\u001b[0;34m(data)\u001b[0m\n\u001b[1;32m      9\u001b[0m \u001b[38;5;28;01mdef\u001b[39;00m \u001b[38;5;21mloads\u001b[39m(data):\n\u001b[1;32m     10\u001b[0m \u001b[38;5;250m    \u001b[39m\u001b[38;5;124;03m\"\"\"\u001b[39;00m\n\u001b[1;32m     11\u001b[0m \u001b[38;5;124;03m    Load a geometry from a WKT string.\u001b[39;00m\n\u001b[1;32m     12\u001b[0m \n\u001b[0;32m   (...)\u001b[0m\n\u001b[1;32m     20\u001b[0m \u001b[38;5;124;03m    Shapely geometry object\u001b[39;00m\n\u001b[1;32m     21\u001b[0m \u001b[38;5;124;03m    \"\"\"\u001b[39;00m\n\u001b[0;32m---> 22\u001b[0m     \u001b[38;5;28;01mreturn\u001b[39;00m \u001b[43mshapely\u001b[49m\u001b[38;5;241;43m.\u001b[39;49m\u001b[43mfrom_wkt\u001b[49m\u001b[43m(\u001b[49m\u001b[43mdata\u001b[49m\u001b[43m)\u001b[49m\n",
      "File \u001b[0;32m~/Documentos/Desenvolvimento/doutorado/tma_characterization/venv/lib/python3.8/site-packages/shapely/io.py:282\u001b[0m, in \u001b[0;36mfrom_wkt\u001b[0;34m(geometry, on_invalid, **kwargs)\u001b[0m\n\u001b[1;32m    278\u001b[0m     \u001b[38;5;28;01mraise\u001b[39;00m \u001b[38;5;167;01mTypeError\u001b[39;00m(\u001b[38;5;124m\"\u001b[39m\u001b[38;5;124mon_invalid only accepts scalar values\u001b[39m\u001b[38;5;124m\"\u001b[39m)\n\u001b[1;32m    280\u001b[0m invalid_handler \u001b[38;5;241m=\u001b[39m np\u001b[38;5;241m.\u001b[39muint8(DecodingErrorOptions\u001b[38;5;241m.\u001b[39mget_value(on_invalid))\n\u001b[0;32m--> 282\u001b[0m \u001b[38;5;28;01mreturn\u001b[39;00m \u001b[43mlib\u001b[49m\u001b[38;5;241;43m.\u001b[39;49m\u001b[43mfrom_wkt\u001b[49m\u001b[43m(\u001b[49m\u001b[43mgeometry\u001b[49m\u001b[43m,\u001b[49m\u001b[43m \u001b[49m\u001b[43minvalid_handler\u001b[49m\u001b[43m,\u001b[49m\u001b[43m \u001b[49m\u001b[38;5;241;43m*\u001b[39;49m\u001b[38;5;241;43m*\u001b[39;49m\u001b[43mkwargs\u001b[49m\u001b[43m)\u001b[49m\n",
      "\u001b[0;31mTypeError\u001b[0m: Expected bytes or string, got float"
     ]
    }
   ],
   "source": [
    "# Convertendo as strings para objetos LineString\n",
    "df['flight_path'] = df['flight_path'].apply(loads)\n",
    "df['flight_path_c100'] = df['flight_path_c100'].apply(loads)"
   ]
  },
  {
   "cell_type": "code",
   "execution_count": 8,
   "metadata": {},
   "outputs": [],
   "source": [
    "def plot_linestrings(df, column, ax, color='blue', label=None):\n",
    "    for geom in df[column]:\n",
    "        if isinstance(geom, LineString):\n",
    "            x, y = geom.xy\n",
    "            ax.plot(x, y, color=color, label=label if label else column)\n",
    "            label = None  # Evitar duplicação de rótulos na legenda\n",
    "        elif isinstance(geom, MultiLineString):\n",
    "            for line in geom:\n",
    "                x, y = line.xy\n",
    "                ax.plot(x, y, color=color, label=label if label else column)\n",
    "                label = None"
   ]
  },
  {
   "cell_type": "code",
   "execution_count": 10,
   "metadata": {},
   "outputs": [
    {
     "data": {
      "image/png": "[encoded data removed]",
      "text/plain": [
       "<Figure size 800x600 with 1 Axes>"
      ]
     },
     "metadata": {},
     "output_type": "display_data"
    }
   ],
   "source": [
    "# Criar o gráfico\n",
    "fig, ax = plt.subplots(figsize=(8, 6))\n",
    "\n",
    "# Plotar flight_path e flight_path_c100\n",
    "plot_linestrings(df, 'flight_path', ax, color='blue', label='Flight Path')"
   ]
  },
  {
   "cell_type": "code",
   "execution_count": null,
   "metadata": {},
   "outputs": [],
   "source": []
  }
 ],
 "metadata": {
  "kernelspec": {
   "display_name": "venv",
   "language": "python",
   "name": "python3"
  },
  "language_info": {
   "codemirror_mode": {
    "name": "ipython",
    "version": 3
   },
   "file_extension": ".py",
   "mimetype": "text/x-python",
   "name": "python",
   "nbconvert_exporter": "python",
   "pygments_lexer": "ipython3",
   "version": "3.8.10"
  }
 },
 "nbformat": 4,
 "nbformat_minor": 2
}
